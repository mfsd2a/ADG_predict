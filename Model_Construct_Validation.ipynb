{
 "cells": [
  {
   "cell_type": "code",
   "execution_count": 2,
   "metadata": {},
   "outputs": [],
   "source": [
    "import torch\n",
    "import random\n",
    "import numpy as np\n",
    "import os\n",
    "import pickle\n",
    "import pandas as pd\n",
    "from sklearn.model_selection import RepeatedKFold\n",
    "from pysurvival.models.multi_task import NeuralMultiTaskModel\n",
    "from pysurvival.models.survival_forest import ConditionalSurvivalForestModel\n",
    "from pysurvival.models.semi_parametric import NonLinearCoxPHModel\n",
    "from pysurvival.models.survival_forest import RandomSurvivalForestModel\n",
    "from pysurvival.utils.metrics import concordance_index"
   ]
  },
  {
   "cell_type": "code",
   "execution_count": 4,
   "metadata": {},
   "outputs": [],
   "source": [
    "from pysurvival.utils.metrics import concordance_index\n",
    "from sklearn.model_selection import RepeatedKFold\n",
    "from pysurvival.models.survival_forest import ConditionalSurvivalForestModel\n",
    "class BaseFun:\n",
    "    def parse_param(self, param):\n",
    "        for key in param:\n",
    "            if isinstance(param[key], str):\n",
    "                param[key] = '\"{}\"'.format(param[key])\n",
    "        return ','.join(['{} = {}'.format(key, param[key]) for key in param])\n",
    "    def get_random_param(self,space):\n",
    "        param = {}\n",
    "        for key in space:\n",
    "            if  key == 'structure':\n",
    "                items = []\n",
    "                for i in range(1,random.choice(space['structure']['num_layers'])+1):\n",
    "                    items.append(\n",
    "                        {\n",
    "                        'activation': random.choice(space['structure']['activations']),\n",
    "                        'num_units':random.choice(space['structure']['num_units'])\n",
    "                        }\n",
    "                    )\n",
    "                param['structure'] = items\n",
    "            else:\n",
    "                param[key] = random.choice(space[key])\n",
    "        return param\n",
    "    \n",
    "    def tuning_and_construct(self,X, T, E,max_iter=100):\n",
    "        self.tuning_result = self.tuning_with_space(X, T, E,self.space,max_iter=max_iter)\n",
    "        self.model = self.fit_model(X, T, E,**self.tuning_result['best_param'])\n",
    "        return self.model\n",
    "    def tuning_with_space(self,x,t,e,space,max_iter=100):\n",
    "        [x,t,e] = [item if isinstance(item, np.ndarray) else np.array(item) for item in [x,t,e]]\n",
    "        scores = []\n",
    "        best_score = 0\n",
    "        best_param = {}\n",
    "        num = 1\n",
    "        while True:\n",
    "            param = self.get_random_param(space)\n",
    "            print(param)\n",
    "            print('Number {} iteration'.format(num), end=' ... ')\n",
    "            # split train data to 5 parts\n",
    "            rkf = RepeatedKFold(n_splits=5, n_repeats=1)\n",
    "            score_iter = []\n",
    "            for train_index, test_index in rkf.split(x):\n",
    "                x_train, x_test = x[train_index], x[test_index]\n",
    "                t_train, t_test = t[train_index], t[test_index]\n",
    "                e_train, e_test = e[train_index], e[test_index]\n",
    "                try:\n",
    "                    model = self.fit_model(x_train, t_train, e_train,**param)\n",
    "                    score = concordance_index(model, x_test, t_test, e_test)\n",
    "                except Exception as err:\n",
    "                    print(str(err))\n",
    "                    break\n",
    "                score_iter.append(score)\n",
    "            mean_score = np.mean(score_iter)\n",
    "            print('mean_c_index: ', mean_score, end=' ')\n",
    "            if mean_score > best_score:\n",
    "                best_score = mean_score\n",
    "                best_param = param\n",
    "                print('is the best so far')\n",
    "            else:\n",
    "                print('')\n",
    "            scores.append({'iteration':num,'mean_score': mean_score, 'param': param})\n",
    "            if num == max_iter:\n",
    "                break\n",
    "            num += 1\n",
    "        return {'best_param': best_param, 'best_score': best_score, 'scores': scores}\n",
    "\n",
    "\n",
    "from pysurvival.models.multi_task import NeuralMultiTaskModel\n",
    "class NMTLR(BaseFun):\n",
    "    def __init__(self):\n",
    "        self.space = {\n",
    "            'structure': {'num_layers':[1,2,3,4,5],\n",
    "                          'num_units': [i for i in range(8, 100)],\n",
    "                          'activations': [\"Atan\", \"BentIdentity\", \"BipolarSigmoid\", \"CosReLU\", \n",
    "                                           \"Gaussian\", \"Hardtanh\", \"InverseSqrt\", \"LeakyReLU\", \n",
    "                                          \"LeCunTanh\", \"LogLog\", \"LogSigmoid\", \"ReLU\", \"SELU\", \"Sigmoid\", \n",
    "                                          \"Sinc\", \"SinReLU\",\"Softmax\", \"Softplus\", \"Softsign\", \"Swish\", \"Tanh\"]\n",
    "                         },\n",
    "            'optimizer':['adadelta','adagrad','adam','adamax','rmsprop','sgd'],\n",
    "            'bins' : [i for i in range(10,100)],\n",
    "            'lr': [round(1e-5 * i, 5) for i in range(1, 100 + 1)],\n",
    "            'num_epochs': [i for i in range(50, 1000 + 1)],\n",
    "            'dropout': [round(0.1 * i, 2) for i in range(1, 4 + 1)],\n",
    "            'l2_reg': [round(0.0001 * i, 5) for i in range(1, 100 + 1)],\n",
    "            'l2_smooth':[round(0.0001 * i, 5) for i in range(1, 100 + 1)],\n",
    "            'batch_normalization' : [False, True]\n",
    "        }\n",
    "        self.model = None\n",
    "    def fit_model(self,X, T, E,**kwargs):\n",
    "        structure = [{'activation': 'ReLU', 'num_units': 128}]\n",
    "        bins = 100\n",
    "        if 'structure' in kwargs:\n",
    "            structure = kwargs['structure']\n",
    "            del kwargs['structure']\n",
    "        if 'bins' in kwargs:\n",
    "            bins = kwargs['bins']\n",
    "            del kwargs['bins']\n",
    "        self.model = NeuralMultiTaskModel(structure=structure,bins=bins)\n",
    "        eval('self.model.fit(X, T, E,{})'.format(self.parse_param(kwargs)))\n",
    "        return self.model\n",
    "\n",
    "from pysurvival.models.semi_parametric import NonLinearCoxPHModel\n",
    "class DeepSurv(BaseFun):\n",
    "    def __init__(self):\n",
    "        self.space = {\n",
    "            'structure': {'num_layers':[1,2,3,4,5],\n",
    "                          'num_units': [i for i in range(8, 100)],\n",
    "                          'activations': [\"Atan\", \"BentIdentity\", \"BipolarSigmoid\", \"CosReLU\", \n",
    "                                           \"Gaussian\", \"Hardtanh\", \"InverseSqrt\", \"LeakyReLU\", \n",
    "                                          \"LeCunTanh\", \"LogLog\", \"LogSigmoid\", \"ReLU\", \"SELU\", \"Sigmoid\", \n",
    "                                          \"Sinc\", \"SinReLU\",\"Softmax\", \"Softplus\", \"Softsign\", \"Swish\", \"Tanh\"]\n",
    "                         },\n",
    "            'optimizer':['adadelta','adagrad','adam','adamax','rmsprop','sgd'],\n",
    "            'lr': [round(1e-5 * i, 5) for i in range(1, 100 + 1)],\n",
    "            'num_epochs': [i for i in range(50, 5000 + 1)],\n",
    "            'dropout': [round(0.1 * i, 2) for i in range(1, 4 + 1)],\n",
    "            'l2_reg': [round(0.0001 * i, 5) for i in range(1, 100 + 1)],\n",
    "            'batch_normalization' : [False, True]\n",
    "        }\n",
    "        self.model = None\n",
    "    def fit_model(self,X, T, E,**kwargs):\n",
    "        structure = [{'activation': 'ReLU', 'num_units': 128}]\n",
    "        bins = 100\n",
    "        if 'structure' in kwargs:\n",
    "            structure = kwargs['structure']\n",
    "            del kwargs['structure']\n",
    "        self.model = NonLinearCoxPHModel(structure=structure)\n",
    "        eval('self.model.fit(X, T, E,{})'.format(self.parse_param(kwargs)))\n",
    "        return self.model\n",
    "\n",
    "\n",
    "from pysurvival.models.survival_forest import RandomSurvivalForestModel\n",
    "class RSF(BaseFun):\n",
    "    def __init__(self):\n",
    "        self.space = {\n",
    "            'num_trees': [i for i in range(20, 1000 + 1)],\n",
    "            'max_features': ['sqrt', 'log2', 'all', 0.1, 0.2],\n",
    "            'min_node_size': [i for i in range(5, 80 + 1)],\n",
    "            'sample_size_pct': [round(0.2 * i, 2) for i in range(1, 4 + 1)],\n",
    "            'importance_mode': ['impurity', 'impurity_corrected', 'permutation', 'normalized_permutation']\n",
    "        }\n",
    "        self.model = None\n",
    "    def fit_model(self,X, T, E,**kwargs):\n",
    "        if 'num_trees' in kwargs:\n",
    "            self.model = RandomSurvivalForestModel(num_trees=kwargs['num_trees'])\n",
    "            del kwargs['num_trees']\n",
    "        else:\n",
    "            self.model = ConditionalSurvivalForestModel()\n",
    "        eval('self.model.fit(X, T, E,seed=SEED,{})'.format(self.parse_param(kwargs)))\n",
    "        return self.model"
   ]
  },
  {
   "cell_type": "code",
   "execution_count": 5,
   "metadata": {},
   "outputs": [],
   "source": [
    "def seed_all(seed=123):  \n",
    "    random.seed(seed)\n",
    "    os.environ['PYTHONHASHSEED'] = str(seed)\n",
    "    np.random.seed(seed)\n",
    "    torch.manual_seed(seed)\n",
    "    torch.cuda.manual_seed(seed)\n",
    "    torch.cuda.manual_seed_all(seed)\n",
    "    torch.backends.cudnn.deterministic = True\n",
    "SEED = 2025\n",
    "seed_all(seed=SEED)"
   ]
  },
  {
   "cell_type": "code",
   "execution_count": 9,
   "metadata": {},
   "outputs": [],
   "source": [
    "df1train = pd.read_csv('data/subset1_train.csv')\n",
    "df1test = pd.read_csv('data/subset1_test.csv')\n",
    "df2train = pd.read_csv('data/subset2_train.csv')\n",
    "df2test = pd.read_csv('data/subset2_test.csv')\n",
    "df3test = pd.read_csv('data/subset3_test.csv')\n",
    "df3train = pd.read_csv('data/subset3_train.csv')\n",
    "df1train = df1train.drop(df1train.columns[0], axis=1)\n",
    "df1test = df1test.drop(df1test.columns[0], axis=1)\n",
    "df2train = df2train.drop(df2train.columns[0], axis=1)\n",
    "df2test = df2test.drop(df2test.columns[0], axis=1)\n",
    "df3train = df3train.drop(df3train.columns[0], axis=1)\n",
    "df3test = df3test.drop(df3test.columns[0], axis=1)\n",
    "df2 = pd.concat([df2train, df2test])\n",
    "df3 = pd.concat([df3train, df3test])\n",
    "\n"
   ]
  },
  {
   "cell_type": "code",
   "execution_count": 11,
   "metadata": {},
   "outputs": [],
   "source": [
    "time_column = 'Overall Survival (Months)'\n",
    "event_column = 'Vital Status'\n",
    "features = [col for col in df1train.columns if col not in [time_column, event_column,'WHO Grade']]"
   ]
  },
  {
   "cell_type": "code",
   "execution_count": 12,
   "metadata": {},
   "outputs": [],
   "source": [
    "X_train, X_test = df1train[features], df1test[features]\n",
    "T_train, T_test = df1train[time_column], df1test[time_column]\n",
    "E_train, E_test = df1train[event_column], df1test[event_column]\n",
    "X2 = df2[features]\n",
    "T2 = df2[time_column] \n",
    "E2 = df2[event_column]\n",
    "X3 = df3[features]\n",
    "T3 = df3[time_column] \n",
    "E3 = df3[event_column]\n"
   ]
  },
  {
   "cell_type": "code",
   "execution_count": 13,
   "metadata": {},
   "outputs": [
    {
     "name": "stdout",
     "output_type": "stream",
     "text": [
      "(6187, 13) (1536, 13)\n",
      "(6187,) (1536,)\n",
      "(6187,) (1536,)\n",
      "(5576, 13)\n",
      "(5576,)\n",
      "(5576,)\n",
      "(9200, 13)\n",
      "(9200,)\n",
      "(9200,)\n"
     ]
    }
   ],
   "source": [
    "print(X_train.shape, X_test.shape)\n",
    "print(T_train.shape, T_test.shape)\n",
    "print(E_train.shape, E_test.shape)\n",
    "print(X2.shape)\n",
    "print(T2.shape)\n",
    "print(E2.shape)\n",
    "print(X3.shape)\n",
    "print(T3.shape)\n",
    "print(E3.shape)\n",
    "\n"
   ]
  },
  {
   "cell_type": "code",
   "execution_count": 14,
   "metadata": {},
   "outputs": [
    {
     "name": "stdout",
     "output_type": "stream",
     "text": [
      "Performing Newton-Raphson optimization\n",
      " * Iteration #1 - Loss = 28843.253 - ||grad||^2 = 7624.76501\n",
      " * Iteration #2 - Loss = 27486.272 - ||grad||^2 = 6043.99738\n",
      " * Iteration #3 - Loss = 26857.841 - ||grad||^2 = 4882.25817\n",
      " * Iteration #4 - Loss = 26457.969 - ||grad||^2 = 3964.08536\n",
      " * Iteration #5 - Loss = 26180.600 - ||grad||^2 = 3226.60006\n",
      " * Iteration #6 - Loss = 25979.273 - ||grad||^2 = 2629.45575\n",
      " * Iteration #7 - Loss = 25829.114 - ||grad||^2 = 2143.34719\n",
      " * Iteration #8 - Loss = 25715.490 - ||grad||^2 = 1745.98984\n",
      " * Iteration #9 - Loss = 25629.292 - ||grad||^2 = 1420.18612\n",
      " * Iteration #10 - Loss = 25564.488 - ||grad||^2 = 1152.65983\n",
      " * Iteration #11 - Loss = 25516.669 - ||grad||^2 = 933.13763\n",
      " * Iteration #12 - Loss = 25482.230 - ||grad||^2 = 753.50268\n",
      " * Iteration #13 - Loss = 25458.038 - ||grad||^2 = 607.09310\n",
      " * Iteration #14 - Loss = 25441.417 - ||grad||^2 = 488.25880\n",
      " * Iteration #15 - Loss = 25430.199 - ||grad||^2 = 392.15439\n",
      " * Iteration #16 - Loss = 25422.729 - ||grad||^2 = 314.65223\n",
      " * Iteration #17 - Loss = 25417.805 - ||grad||^2 = 252.28294\n",
      " * Iteration #18 - Loss = 25414.582 - ||grad||^2 = 202.16822\n",
      " * Iteration #19 - Loss = 25412.484 - ||grad||^2 = 161.94455\n",
      " * Iteration #20 - Loss = 25411.123 - ||grad||^2 = 129.68556\n",
      " * Iteration #21 - Loss = 25410.244 - ||grad||^2 = 103.82935\n",
      " * Iteration #22 - Loss = 25409.677 - ||grad||^2 = 83.11413\n",
      " * Iteration #23 - Loss = 25409.311 - ||grad||^2 = 66.52315\n",
      " * Iteration #24 - Loss = 25409.076 - ||grad||^2 = 53.23861\n",
      " * Iteration #25 - Loss = 25408.925 - ||grad||^2 = 42.60360\n",
      " * Iteration #26 - Loss = 25408.829 - ||grad||^2 = 34.09094\n",
      " * Iteration #27 - Loss = 25408.766 - ||grad||^2 = 27.27787\n",
      " * Iteration #28 - Loss = 25408.727 - ||grad||^2 = 21.82556\n",
      " * Iteration #29 - Loss = 25408.701 - ||grad||^2 = 17.46252\n",
      " * Iteration #30 - Loss = 25408.685 - ||grad||^2 = 13.97134\n",
      " * Iteration #31 - Loss = 25408.674 - ||grad||^2 = 11.17792\n",
      " * Iteration #32 - Loss = 25408.667 - ||grad||^2 = 8.94287\n",
      " * Iteration #33 - Loss = 25408.663 - ||grad||^2 = 7.15464\n",
      " * Iteration #34 - Loss = 25408.660 - ||grad||^2 = 5.72393\n",
      " * Iteration #35 - Loss = 25408.659 - ||grad||^2 = 4.57929\n",
      " * Iteration #36 - Loss = 25408.658 - ||grad||^2 = 3.66352\n",
      " * Iteration #37 - Loss = 25408.657 - ||grad||^2 = 2.93087\n",
      " * Iteration #38 - Loss = 25408.656 - ||grad||^2 = 2.34474\n",
      " * Iteration #39 - Loss = 25408.656 - ||grad||^2 = 1.87581\n",
      " * Iteration #40 - Loss = 25408.656 - ||grad||^2 = 1.50067\n",
      " * Iteration #41 - Loss = 25408.656 - ||grad||^2 = 1.20054\n",
      " * Iteration #42 - Loss = 25408.656 - ||grad||^2 = 0.96044\n",
      " * Iteration #43 - Loss = 25408.656 - ||grad||^2 = 0.76836\n",
      " * Iteration #44 - Loss = 25408.656 - ||grad||^2 = 0.61469\n",
      " * Iteration #45 - Loss = 25408.656 - ||grad||^2 = 0.49175\n",
      " * Iteration #46 - Loss = 25408.656 - ||grad||^2 = 0.39340\n",
      " * Iteration #47 - Loss = 25408.656 - ||grad||^2 = 0.31472\n",
      " * Iteration #48 - Loss = 25408.656 - ||grad||^2 = 0.25178\n",
      " * Iteration #49 - Loss = 25408.656 - ||grad||^2 = 0.20142\n",
      " * Iteration #50 - Loss = 25408.656 - ||grad||^2 = 0.16114\n",
      " * Iteration #51 - Loss = 25408.656 - ||grad||^2 = 0.12891\n",
      " * Iteration #52 - Loss = 25408.656 - ||grad||^2 = 0.10313\n",
      " * Iteration #53 - Loss = 25408.656 - ||grad||^2 = 0.08250\n",
      " * Iteration #54 - Loss = 25408.656 - ||grad||^2 = 0.06600\n",
      " * Iteration #55 - Loss = 25408.656 - ||grad||^2 = 0.05280\n",
      " * Iteration #56 - Loss = 25408.656 - ||grad||^2 = 0.04224\n",
      " * Iteration #57 - Loss = 25408.656 - ||grad||^2 = 0.03379\n",
      " * Iteration #58 - Loss = 25408.656 - ||grad||^2 = 0.02703\n",
      " * Iteration #59 - Loss = 25408.656 - ||grad||^2 = 0.02163\n",
      " * Iteration #60 - Loss = 25408.656 - ||grad||^2 = 0.01730\n",
      " * Iteration #61 - Loss = 25408.656 - ||grad||^2 = 0.01384\n",
      " * Iteration #62 - Loss = 25408.656 - ||grad||^2 = 0.01107\n",
      " * Iteration #63 - Loss = 25408.656 - ||grad||^2 = 0.00886\n",
      " * Iteration #64 - Loss = 25408.656 - ||grad||^2 = 0.00709\n",
      " * Iteration #65 - Loss = 25408.656 - ||grad||^2 = 0.00567\n",
      " * Iteration #66 - Loss = 25408.656 - ||grad||^2 = 0.00454\n",
      " * Iteration #67 - Loss = 25408.656 - ||grad||^2 = 0.00363\n",
      " * Iteration #68 - Loss = 25408.656 - ||grad||^2 = 0.00290\n",
      " * Iteration #69 - Loss = 25408.656 - ||grad||^2 = 0.00232\n",
      " * Iteration #70 - Loss = 25408.656 - ||grad||^2 = 0.00186\n",
      " * Iteration #71 - Loss = 25408.656 - ||grad||^2 = 0.00149\n",
      " * Iteration #72 - Loss = 25408.656 - ||grad||^2 = 0.00119\n",
      " * Iteration #73 - Loss = 25408.656 - ||grad||^2 = 0.00095\n",
      "Converged after 73 iterations.\n",
      "C-index of train: 0.7388; C-index of test: 0.7434\n"
     ]
    },
    {
     "data": {
      "image/png": "[encoded data removed]",
      "text/plain": [
       "<Figure size 2000x650 with 1 Axes>"
      ]
     },
     "metadata": {},
     "output_type": "display_data"
    },
    {
     "name": "stdout",
     "output_type": "stream",
     "text": [
      "IBS: 0.143\n"
     ]
    }
   ],
   "source": [
    "from pysurvival.models.semi_parametric import CoxPHModel\n",
    "def cph(X_train, T_train, E_train):\n",
    "    model = CoxPHModel()\n",
    "    model.fit(X_train, T_train, E_train, lr=0.2, l2_reg=0.01)\n",
    "    return model\n",
    "\n",
    "cph_model = cph(X_train, T_train, E_train)\n",
    "c_index_cox_train = concordance_index(cph_model, X_train, T_train, E_train)\n",
    "c_index_cox_test = concordance_index(cph_model, X_test, T_test, E_test)\n",
    "\n",
    "print('C-index of train: {:.4f}; C-index of test: {:.4f}'.format(c_index_cox_train,c_index_cox_test))\n",
    "\n",
    "# from pysurvival.utils import save_model\n",
    "# save_model(cph_model, './outputModel_1/CoxPH.zip')\n",
    "from pysurvival.utils.display import integrated_brier_score\n",
    "ibs_cox = integrated_brier_score(cph_model, X_train, T_train, E_train,t_max=None, figure_size=(20, 6.5) )\n",
    "print('IBS: {:.3f}'.format(ibs_cox))\n"
   ]
  },
  {
   "cell_type": "code",
   "execution_count": 15,
   "metadata": {},
   "outputs": [
    {
     "name": "stderr",
     "output_type": "stream",
     "text": [
      "% Completion: 100%|**********************************************|Loss: 8892.57\n"
     ]
    },
    {
     "name": "stdout",
     "output_type": "stream",
     "text": [
      "C-index of train: 0.7731; C-index of test: 0.7764\n"
     ]
    },
    {
     "data": {
      "image/png": "[encoded data removed]",
      "text/plain": [
       "<Figure size 2000x650 with 1 Axes>"
      ]
     },
     "metadata": {},
     "output_type": "display_data"
    },
    {
     "name": "stdout",
     "output_type": "stream",
     "text": [
      "IBS: 0.12\n"
     ]
    }
   ],
   "source": [
    "var_nmtlr = {'structure': [{'activation': 'Swish', 'num_units': 64}, {'activation': 'Swish', 'num_units': 31}, {'activation': 'Swish', 'num_units': 62}, {'activation': 'LeakyReLU', 'num_units': 91}, {'activation': 'BentIdentity', 'num_units': 92}], 'optimizer': 'adam', 'bins': 20, 'lr': 0.00069, 'num_epochs': 276, 'dropout': 0.4, 'l2_reg': 0.0034, 'l2_smooth': 0.0092, 'batch_normalization': False}\n",
    "nmtlr = NMTLR()\n",
    "nmtlr.fit_model(X_train,T_train,E_train,**var_nmtlr)\n",
    "c_index_nmtlr_train = concordance_index(nmtlr.model, X_train, T_train, E_train)\n",
    "c_index_nmtlr_test = concordance_index(nmtlr.model, X_test, T_test, E_test)\n",
    "print('C-index of train: {:.4f}; C-index of test: {:.4f}'.format(c_index_nmtlr_train, c_index_nmtlr_test))\n",
    "\n",
    "\n",
    "ibs_nmtlr = integrated_brier_score(nmtlr.model, X_test, T_test, E_test, figure_size=(20, 6.5))\n",
    "print('IBS: {:.2f}'.format(ibs_nmtlr))"
   ]
  },
  {
   "cell_type": "code",
   "execution_count": 16,
   "metadata": {},
   "outputs": [
    {
     "name": "stderr",
     "output_type": "stream",
     "text": [
      "% Completion: 100%|*********************************************|Loss: 24840.80\n"
     ]
    },
    {
     "name": "stdout",
     "output_type": "stream",
     "text": [
      "C-index of train: 0.7782; C-index of test: 0.7806\n"
     ]
    },
    {
     "data": {
      "image/png": "[encoded data removed]",
      "text/plain": [
       "<Figure size 2000x650 with 1 Axes>"
      ]
     },
     "metadata": {},
     "output_type": "display_data"
    },
    {
     "name": "stdout",
     "output_type": "stream",
     "text": [
      "IBS: 0.119\n"
     ]
    }
   ],
   "source": [
    "var_deepsurv = {'structure': [{'activation': 'Swish', 'num_units': 66}], 'optimizer': 'rmsprop', 'lr': 0.00037, 'num_epochs': 3188, 'dropout': 0.3, 'l2_reg': 0.0098, 'batch_normalization': False}\n",
    "deepsurv = DeepSurv()\n",
    "deepsurv.fit_model(X_train,T_train,E_train,**var_deepsurv)\n",
    "c_index_deepsurv_train = concordance_index(deepsurv.model, X_train, T_train, E_train)\n",
    "c_index_deepsurv_test = concordance_index(deepsurv.model, X_test, T_test, E_test)\n",
    "\n",
    "print('C-index of train: {:.4f}; C-index of test: {:.4f}'.format(c_index_deepsurv_train,c_index_deepsurv_test)) #C-index: 0.6996\n",
    "\n",
    "from pysurvival.utils.display import integrated_brier_score\n",
    "ibs_deepsurv = integrated_brier_score(deepsurv.model, X_test, T_test, E_test, figure_size=(20, 6.5) )\n",
    "print('IBS: {:.3f}'.format(ibs_deepsurv))"
   ]
  },
  {
   "cell_type": "code",
   "execution_count": 17,
   "metadata": {},
   "outputs": [
    {
     "name": "stdout",
     "output_type": "stream",
     "text": [
      "C-index of train: 0.7675; C-index of test: 0.7657\n"
     ]
    },
    {
     "data": {
      "image/png": "[encoded data removed]",
      "text/plain": [
       "<Figure size 2000x650 with 1 Axes>"
      ]
     },
     "metadata": {},
     "output_type": "display_data"
    },
    {
     "name": "stdout",
     "output_type": "stream",
     "text": [
      "IBS: 0.127\n"
     ]
    }
   ],
   "source": [
    "var_rsf = {'num_trees': 66, 'max_features': 'sqrt', 'min_node_size': 5, 'sample_size_pct': 0.6, 'importance_mode': 'permutation'}\n",
    "rsf = RSF()\n",
    "rsf.fit_model(X_train,T_train,E_train,**var_rsf)\n",
    "c_index_rsf_train = concordance_index(rsf.model, X_train, T_train, E_train)\n",
    "c_index_rsf_test = concordance_index(rsf.model, X_test, T_test, E_test)\n",
    "print('C-index of train: {:.4f}; C-index of test: {:.4f}'.format(c_index_rsf_train,c_index_rsf_test))\n",
    "\n",
    "from pysurvival.utils.display import integrated_brier_score\n",
    "ibs_rsf = integrated_brier_score(rsf.model, X_test, T_test, E_test, figure_size=(20, 6.5) )\n",
    "print('IBS: {:.3f}'.format(ibs_rsf))"
   ]
  },
  {
   "cell_type": "code",
   "execution_count": 122,
   "metadata": {},
   "outputs": [
    {
     "name": "stdout",
     "output_type": "stream",
     "text": [
      "C-index of subset2: 0.6966; C-index of subset3: 0.7493\n",
      "C-index of subset2: 0.7229; C-index of subset3: 0.7844\n",
      "C-index of subset2: 0.7256; C-index of subset3: 0.7876\n",
      "C-index of subset2: 0.7201; C-index of subset3: 0.7763\n"
     ]
    }
   ],
   "source": [
    "c_index_cox2 = concordance_index(cph_model, X2, T2, E2)\n",
    "c_index_cox3 = concordance_index(cph_model, X3, T3, E3)\n",
    "print('C-index of cox subset2: {:.4f}; C-index of cox subset3: {:.4f}'.format(c_index_cox2,c_index_cox3))\n",
    "c_index_nmtlr2 = concordance_index(nmtlr.model, X2, T2, E2)\n",
    "c_index_nmtlr3 = concordance_index(nmtlr.model, X3, T3, E3)\n",
    "print('C-index of nmtlr subset2: {:.4f}; C-index of nmtlr subset3: {:.4f}'.format(c_index_nmtlr2,c_index_nmtlr3))\n",
    "c_index_deepsurv2 = concordance_index(deepsurv.model, X2, T2, E2)\n",
    "c_index_deepsurv3 = concordance_index(deepsurv.model, X3, T3, E3)\n",
    "print('C-index of deepsurv subset2: {:.4f}; C-index of deepsurv subset3: {:.4f}'.format(c_index_deepsurv2,c_index_deepsurv3))\n",
    "c_index_rsf2 = concordance_index(rsf.model, X2, T2, E2)\n",
    "c_index_rsf3 = concordance_index(rsf.model, X3, T3, E3)\n",
    "print('C-index of rsf subset2: {:.4f}; C-index of rsf subset3: {:.4f}'.format(c_index_rsf2,c_index_rsf3))\n"
   ]
  },
  {
   "cell_type": "code",
   "execution_count": 18,
   "metadata": {},
   "outputs": [
    {
     "name": "stdout",
     "output_type": "stream",
     "text": [
      "IBS of nmtlr subset2: 0.1257; IBS of nmtlr subset3: 0.1103\n",
      "IBS of deepsurv subset2: 0.1206; IBS of deepsurv subset3: 0.1060\n",
      "IBS of rsf subset2: 0.1318; IBS of rsf subset3: 0.1209\n",
      "IBS of cph subset2: 0.1411; IBS of cph subset3: 0.1337\n"
     ]
    }
   ],
   "source": [
    "from pysurvival.utils.metrics import brier_score\n",
    "t_max = max(T_test)\n",
    "\n",
    "times_nmtlr2, brier_scores_nmtlr2 = brier_score(nmtlr.model, X2, T2, E2, t_max=t_max, use_mean_point=True)\n",
    "ibs_nmtlr2 = np.trapz(brier_scores_nmtlr2, times_nmtlr2) / t_max\n",
    "times_nmtlr3, brier_scores_nmtlr3 = brier_score(nmtlr.model, X3, T3, E3, t_max=t_max, use_mean_point=True)\n",
    "ibs_nmtlr3 = np.trapz(brier_scores_nmtlr3, times_nmtlr3) / t_max\n",
    "print(\"IBS of nmtlr subset2: {:.4f}; IBS of nmtlr subset3: {:.4f}\".format(ibs_nmtlr2, ibs_nmtlr3))\n",
    "\n",
    "times_deepsurv2, brier_scores_deepsurv2 = brier_score(deepsurv.model, X2, T2, E2, t_max=t_max,\n",
    "                                                    use_mean_point=True)\n",
    "ibs_deepsurv2 = np.trapz(brier_scores_deepsurv2, times_deepsurv2) / t_max\n",
    "times_deepsurv3, brier_scores_deepsurv3 = brier_score(deepsurv.model, X3, T3, E3, t_max=t_max,\n",
    "                                                    use_mean_point=True)\n",
    "ibs_deepsurv3 = np.trapz(brier_scores_deepsurv3, times_deepsurv3) / t_max\n",
    "print(\"IBS of deepsurv subset2: {:.4f}; IBS of deepsurv subset3: {:.4f}\".format(ibs_deepsurv2, ibs_deepsurv3))\n",
    "\n",
    "times_rsf2, brier_scores_rsf2 = brier_score(rsf.model, X2, T2, E2, t_max=t_max, use_mean_point=True)\n",
    "ibs_rsf2 = np.trapz(brier_scores_rsf2,  times_rsf2) / t_max\n",
    "times_rsf3, brier_scores_rsf3 = brier_score(rsf.model, X3, T3, E3, t_max=t_max, use_mean_point=True)\n",
    "ibs_rsf3 = np.trapz(brier_scores_rsf3, times_rsf3) / t_max\n",
    "print(\"IBS of rsf subset2: {:.4f}; IBS of rsf subset3: {:.4f}\".format(ibs_rsf2, ibs_rsf3))\n",
    "\n",
    "times_cph2, brier_scores_cph2 = brier_score(cph_model, X2, T2, E2, t_max=t_max, use_mean_point=True)\n",
    "ibs_cph2 = np. trapz(brier_scores_cph2, times_cph2)/t_max\n",
    "times_cph3, brier_scores_cph3 = brier_score(cph_model, X3, T3, E3, t_max=t_max, use_mean_point=True)\n",
    "ibs_cph3 = np.trapz(brier_scores_cph3, times_cph3)/t_max\n",
    "print(\"IBS of cph subset2: {:.4f}; IBS of cph subset3: {:.4f}\".format(ibs_cph2, ibs_cph3))\n"
   ]
  },
  {
   "cell_type": "code",
   "execution_count": 19,
   "metadata": {},
   "outputs": [],
   "source": [
    "save_path = 'save/final1'"
   ]
  },
  {
   "cell_type": "code",
   "execution_count": 16,
   "metadata": {},
   "outputs": [],
   "source": [
    "import pickle\n",
    "with open('save/DeepSurv.pkl', 'wb') as f:\n",
    "    pickle.dump(deepsurv.model, f)\n",
    "# with open('save/DeepSurv.pkl', 'rb') as f:\n",
    "#     loaded_model = pickle.load(f)"
   ]
  },
  {
   "cell_type": "code",
   "execution_count": 127,
   "metadata": {},
   "outputs": [],
   "source": [
    "from pysurvival.utils.metrics import brier_score\n",
    "t_max = max(T_test)\n",
    "\n",
    "times_nmtlr, brier_scores_nmtlr = brier_score(nmtlr.model, X_test, T_test, E_test, t_max=t_max, use_mean_point=True)\n",
    "ibs_nmtlr = np.trapz(brier_scores_nmtlr, times_nmtlr) / t_max\n",
    "\n",
    "\n",
    "times_deepsurv, brier_scores_deepsurv = brier_score(deepsurv.model, X_test, T_test, E_test, t_max=t_max,\n",
    "                                                    use_mean_point=True)\n",
    "ibs_deepsurv = np.trapz(brier_scores_deepsurv, times_deepsurv) / t_max\n",
    "\n",
    "\n",
    "times_rsf, brier_scores_rsf = brier_score(rsf.model, X_test, T_test, E_test, t_max=t_max, use_mean_point=True)\n",
    "ibs_rsf = np.trapz(brier_scores_rsf, times_rsf) / t_max\n",
    "\n",
    "\n",
    "times_cph, brier_scores_cph = brier_score(cph_model, X_test, T_test, E_test, t_max=t_max, use_mean_point=True)\n",
    "ibs_cph = np.trapz(brier_scores_cph, times_cph)/t_max"
   ]
  },
  {
   "cell_type": "code",
   "execution_count": 23,
   "metadata": {},
   "outputs": [],
   "source": [
    "result_df = pd.DataFrame({\n",
    "    'times': times_nmtlr + times_deepsurv + times_rsf + times_cph,\n",
    "    'brier_scores': brier_scores_nmtlr + brier_scores_deepsurv + brier_scores_rsf + brier_scores_cph,\n",
    "    'models': ['NMTLR (IBS: {:.4f})'.format(ibs_nmtlr) for _ in brier_scores_nmtlr] +\n",
    "              ['DeepSurv (IBS: {:.4f})'.format(ibs_deepsurv) for _ in brier_scores_deepsurv] +\n",
    "              ['RSF (IBS: {:.4f})'.format(ibs_rsf) for i in brier_scores_rsf] +\n",
    "              ['CPH (IBS: {:.4f})'.format(ibs_cph) for i in brier_scores_cph],\n",
    "})\n",
    "result_df.to_csv(os.path.join(save_path, 'brier_score.csv'))"
   ]
  },
  {
   "cell_type": "code",
   "execution_count": 24,
   "metadata": {},
   "outputs": [],
   "source": [
    "t_max = max(T3)\n",
    "def generate_prediction_by_year(time_=12, file_name='1 year prediction.csv'):\n",
    "\n",
    "    index = ~((T3 <= time_) & (E3 == 0))\n",
    "    X_ = X3.loc[index, :].reset_index(drop=True)\n",
    "    T_ = T3[index].reset_index(drop=True)\n",
    "    E_ = E3[index].reset_index(drop=True)\n",
    "\n",
    "\n",
    "    survival_nmtlr = nmtlr.model.predict_survival(X_, t=time_)\n",
    "    survival_deepsurv = deepsurv.model.predict_survival(X_, t=time_)\n",
    "    survival_rsf = rsf.model.predict_survival(X_, t=time_)\n",
    "    survival_cph = cph_model.predict_survival(X_, t=time_)\n",
    "    import numpy as np\n",
    "\n",
    "  \n",
    "    survival_cph_array = np.array(survival_cph)\n",
    "    survival_nmtlr_array = np.array(survival_nmtlr)\n",
    "    survival_deepsurv_array = np.array(survival_deepsurv)\n",
    "    survival_rsf_array = np.array(survival_rsf)\n",
    "\n",
    "\n",
    "    pd.DataFrame(\n",
    "        {'event': [1 if T_[i] >= time_ else 0 for i in range(len(T_))] * 4,\n",
    "         'survival': np.concatenate([survival_nmtlr_array, survival_deepsurv_array, survival_rsf_array,\n",
    "                                     survival_cph_array]),\n",
    "         'models': ['NMTLR' for _ in T_] + ['DeepSurv' for _ in T_] + ['RSF' for _ in T_] + ['CPH' for _ in T_]\n",
    "         }).to_csv(os.path.join(save_path, file_name))\n",
    "\n",
    "\n",
    "generate_prediction_by_year(time_=12,file_name='D3_1 year prediction.csv')\n",
    "generate_prediction_by_year(time_=24,file_name='D3_2 year prediction.csv')\n",
    "generate_prediction_by_year(time_=36,file_name='D3_3 year prediction.csv')"
   ]
  },
  {
   "cell_type": "code",
   "execution_count": 24,
   "metadata": {},
   "outputs": [],
   "source": [
    "def generate_prediction_by_year(time_=12, file_name='1 year prediction.csv'):\n",
    "\n",
    "    index = ~((T_test <= time_) & (E_test == 0))\n",
    "    X_ = X_test.loc[index, :].reset_index(drop=True)\n",
    "    T_ = T_test[index].reset_index(drop=True)\n",
    "    E_ = E_test[index].reset_index(drop=True)\n",
    "\n",
    "\n",
    "    survival_nmtlr = nmtlr.model.predict_survival(X_, t=time_)\n",
    "    survival_deepsurv = deepsurv.model.predict_survival(X_, t=time_)\n",
    "    survival_rsf = rsf.model.predict_survival(X_, t=time_)\n",
    "    survival_cph = cph_model.predict_survival(X_, t=time_)\n",
    "    import numpy as np\n",
    "\n",
    "  \n",
    "    survival_cph_array = np.array(survival_cph)\n",
    "    survival_nmtlr_array = np.array(survival_nmtlr)\n",
    "    survival_deepsurv_array = np.array(survival_deepsurv)\n",
    "    survival_rsf_array = np.array(survival_rsf)\n",
    "\n",
    "\n",
    "    pd.DataFrame(\n",
    "        {'event': [1 if T_[i] >= time_ else 0 for i in range(len(T_))] * 4,\n",
    "         'survival': np.concatenate([survival_nmtlr_array, survival_deepsurv_array, survival_rsf_array,\n",
    "                                     survival_cph_array]),\n",
    "         'models': ['NMTLR' for _ in T_] + ['DeepSurv' for _ in T_] + ['RSF' for _ in T_] + ['CPH' for _ in T_]\n",
    "         }).to_csv(os.path.join(save_path, file_name))\n",
    "\n",
    "\n",
    "generate_prediction_by_year(time_=12,file_name='1 year prediction.csv')\n",
    "generate_prediction_by_year(time_=24,file_name='2 year prediction.csv')\n",
    "generate_prediction_by_year(time_=36,file_name='3 year prediction.csv')"
   ]
  },
  {
   "cell_type": "code",
   "execution_count": 25,
   "metadata": {},
   "outputs": [],
   "source": [
    "pd.DataFrame(\n",
    "    {'loss_values': deepsurv.model.loss_values}\n",
    ").to_csv(os.path.join(save_path, 'deesurv_loss_values.csv'))\n",
    "pd.DataFrame(\n",
    "    {'loss_values': nmtlr.model.loss_values}\n",
    ").to_csv(os.path.join(save_path, 'nmtlr_loss_values.csv'))"
   ]
  },
  {
   "cell_type": "code",
   "execution_count": 26,
   "metadata": {},
   "outputs": [
    {
     "name": "stdout",
     "output_type": "stream",
     "text": [
      "                                  DeepSurv     NMTLR       RSF   Average\n",
      "Diagnosis Year                    0.000241  0.001015 -0.000137  0.000373\n",
      "Molecular Pathology Types         0.164329  0.131511  0.069695  0.121845\n",
      "Age at Diagnosis                  0.083810  0.103374  0.168965  0.118717\n",
      "Gender                           -0.001911  0.000453 -0.000722 -0.000727\n",
      "Race                              0.001436  0.002067 -0.000174  0.001110\n",
      "Marital Status                    0.008147  0.005484  0.000131  0.004587\n",
      "Primary Site                      0.002138 -0.002737  0.002288  0.000563\n",
      "Tumor Size                        0.005414  0.001330  0.000416  0.002387\n",
      "Extent of Disease                 0.009538  0.006846  0.006631  0.007672\n",
      "Extent of resection               0.018456  0.024230  0.009345  0.017344\n",
      "Radiotherapy                      0.007816  0.011725  0.007090  0.008877\n",
      "Chemotherapy                      0.046218  0.032380  0.032343  0.036980\n",
      "Time from diagnosis to treatment  0.000407  0.002356  0.001698  0.001487\n"
     ]
    }
   ],
   "source": [
    "\n",
    "def variableImportance(model, X, T, E):\n",
    "    ctmp = concordance_index(model, X, T, E)\n",
    "    imps = []\n",
    "    for column in X:\n",
    "        tmpX = X.copy()\n",
    "        tmpX[column] = np.random.permutation(tmpX[column])\n",
    "        ctmp2 = concordance_index(model, tmpX, T, E)\n",
    "        imps.append((ctmp - ctmp2) / ctmp)\n",
    "    return imps\n",
    "\n",
    "\n",
    "\n",
    "imp_df = pd.DataFrame(\n",
    "    {\n",
    "        'DeepSurv': variableImportance(deepsurv.model, X_test, T_test, E_test),\n",
    "        'NMTLR': variableImportance(nmtlr.model, X_test, T_test, E_test),\n",
    "        'RSF': variableImportance(rsf.model, X_test, T_test, E_test),\n",
    "    },\n",
    "    index=X_test.columns\n",
    ")\n",
    "imp_df['Average'] = imp_df.mean(axis=1)\n",
    "print(imp_df)\n",
    "imp_df.to_csv(os.path.join(save_path, 'variable_importance.csv'))"
   ]
  },
  {
   "cell_type": "code",
   "execution_count": 29,
   "metadata": {},
   "outputs": [],
   "source": [
    "import os\n",
    "import pandas as pd\n",
    "from sklearn.metrics import roc_curve, auc\n",
    "import matplotlib.pyplot as plt\n",
    "\n",
    "\n",
    "base_path = 'save/final1/'\n",
    "file_names = ['1 year prediction.csv', '2 year prediction.csv', '3 year prediction.csv']"
   ]
  },
  {
   "cell_type": "code",
   "execution_count": null,
   "metadata": {},
   "outputs": [
    {
     "name": "stderr",
     "output_type": "stream",
     "text": [
      "Permutation explainer: 6188it [00:41, 118.70it/s]                          \n"
     ]
    }
   ],
   "source": [
    "\n",
    "import shap\n",
    "\n",
    "\n",
    "explainer = shap.Explainer(deepsurv.model.predict_risk,X_train)\n",
    "shap_values = explainer.shap_values(X_train)"
   ]
  },
  {
   "cell_type": "code",
   "execution_count": 176,
   "metadata": {},
   "outputs": [],
   "source": [
    "import matplotlib.pyplot as plt\n",
    "shap.summary_plot(shap_values, X_train,show = False)\n",
    "plt.savefig('output/figure/test.eps', format='eps')"
   ]
  },
  {
   "cell_type": "code",
   "execution_count": null,
   "metadata": {},
   "outputs": [],
   "source": [
    "\n",
    "fig, ax1 = plt.subplots(figsize=(12, 10), dpi=1200) \n",
    "\n",
    "\n",
    "shap.summary_plot(shap_values, X_train, \n",
    "                 feature_names=X_train.columns, \n",
    "                 plot_type=\"dot\", \n",
    "                 show=False, \n",
    "                 color_bar=True)\n",
    "\n",
    "\n",
    "plt.gca().set_position([0.15, 0.1, 0.7, 0.8]) \n",
    "\n",
    "\n",
    "ax2 = ax1.twiny()\n",
    "shap.summary_plot(shap_values, X_train, plot_type=\"bar\", show=False)\n",
    "plt.gca().set_position([0.15, 0.1, 0.7, 0.8])  \n",
    "\n",
    "\n",
    "bars = ax2.patches\n",
    "for bar in bars:    \n",
    "    bar.set_alpha(0.4) \n",
    "\n",
    "\n",
    "ax1.set_xlabel('Shapley Value Contribution (Bee Swarm)', fontsize=12)\n",
    "ax2.set_xlabel('Mean Shapley Value (Feature Importance)', fontsize=12)\n",
    "ax1.set_ylabel('Features', fontsize=12)\n",
    "\n",
    "\n",
    "ax1.set_xlim(auto=True)  \n",
    "ax2.set_xlim(auto=True)\n",
    "ax2.xaxis.set_label_position('top')  \n",
    "ax2.xaxis.tick_top()  \n",
    "\n",
    "plt.savefig(\"output/figure/importance.pdf\", \n",
    "            format='pdf', \n",
    "            bbox_inches='tight',\n",
    "            dpi=1200,\n",
    "            pad_inches=0.2)  \n",
    "\n",
    "\n",
    "plt.close()"
   ]
  },
  {
   "cell_type": "code",
   "execution_count": null,
   "metadata": {},
   "outputs": [],
   "source": [
    "import matplotlib\n",
    "matplotlib.rcParams['pdf.fonttype'] = 42\n",
    "matplotlib.rcParams['ps.fonttype'] = 42\n",
    "for feature in X_train.columns:\n",
    "    shap.dependence_plot(\n",
    "        feature,\n",
    "        shap_values,\n",
    "        X_train,\n",
    "        interaction_index='auto',\n",
    "        show=False\n",
    "    )\n",
    "    plt.title(f'Dependence Plot for {feature}')\n",
    "    \n",
    "\n",
    "    save_dir = 'output/figure/dependence_plots'\n",
    "    os.makedirs(save_dir, exist_ok=True)\n",
    "    \n",
    "\n",
    "    plt.savefig(f\"{save_dir}/{feature}_dependence.eps\", \n",
    "                format='eps',\n",
    "                bbox_inches='tight',\n",
    "                dpi=1200)\n"
   ]
  },
  {
   "cell_type": "code",
   "execution_count": null,
   "metadata": {},
   "outputs": [],
   "source": [
    "shap.dependence_plot(\n",
    "        X_train.columns[10],\n",
    "        shap_values,\n",
    "        X_train,\n",
    "        interaction_index=X_train.columns[11],\n",
    "        show=False\n",
    ")\n",
    "plt.savefig(\"output/figure/radio_chemo.pdf\", \n",
    "            format='pdf', \n",
    "            bbox_inches='tight',\n",
    "            dpi=1200,\n",
    "            pad_inches=0.2)  "
   ]
  },
  {
   "cell_type": "code",
   "execution_count": 172,
   "metadata": {},
   "outputs": [
    {
     "data": {
      "text/plain": [
       "1"
      ]
     },
     "execution_count": 172,
     "metadata": {},
     "output_type": "execute_result"
    }
   ],
   "source": [
    "E_train[1]"
   ]
  },
  {
   "cell_type": "code",
   "execution_count": null,
   "metadata": {},
   "outputs": [],
   "source": [
    "shap.plots.waterfall(shap.Explanation(\n",
    "    values=shap_values[1, :],\n",
    "    base_values=base_value,  \n",
    "    data=X_train.iloc[sample_index], \n",
    "    feature_names=features  \n",
    "    \n",
    "),show = False)\n",
    "plt.savefig(\"output/figure/shap.pdf\", \n",
    "            format='pdf', \n",
    "            bbox_inches='tight',\n",
    "            dpi=1200,\n",
    "            pad_inches=0.2)  \n"
   ]
  },
  {
   "cell_type": "code",
   "execution_count": 130,
   "metadata": {},
   "outputs": [],
   "source": [
    "T_test_np = T_test.to_numpy()\n",
    "X_test_np = X_test.to_numpy()\n",
    "E_test_np = E_test.to_numpy()\n",
    "T2_np = T2.to_numpy()\n",
    "X2_np = X2.to_numpy()\n",
    "E2_np = E2.to_numpy()\n",
    "T3_np = T3.to_numpy()\n",
    "X3_np = X3.to_numpy()\n",
    "E3_np = E3.to_numpy()\n",
    "from sklearn.utils import resample\n",
    "from tqdm import tqdm\n",
    "def bootstrap_concordance(X_test_np, T_test_np, E_test_np, model, n_bootstraps=1000):\n",
    "    bootstrap_c_indices = []\n",
    "    \n",
    "\n",
    "    for _ in tqdm(range(n_bootstraps), desc=\"Bootstrap Progress\"):\n",
    "        # Resampling\n",
    "        indices = resample(np.arange(len(T_test_np)), replace=True)\n",
    "        X_boot = X_test_np[indices]\n",
    "        T_boot = T_test_np[indices]\n",
    "        E_boot = E_test_np[indices]\n",
    "        \n",
    "\n",
    "        c_index = concordance_index(model, X_boot, T_boot, E_boot)\n",
    "        bootstrap_c_indices.append(c_index)\n",
    "\n",
    "    mean_c_index = np.mean(bootstrap_c_indices)\n",
    "    ci_lower = np.percentile(bootstrap_c_indices, 2.5)\n",
    "    ci_upper = np.percentile(bootstrap_c_indices, 97.5)\n",
    "    \n",
    "    return bootstrap_c_indices, mean_c_index, ci_lower, ci_upper"
   ]
  },
  {
   "cell_type": "code",
   "execution_count": null,
   "metadata": {},
   "outputs": [
    {
     "name": "stdout",
     "output_type": "stream",
     "text": [
      "\n",
      "Evaluating models on Test dataset:\n",
      "======================================================================\n",
      "\n",
      "Processing CPH...\n"
     ]
    },
    {
     "name": "stderr",
     "output_type": "stream",
     "text": [
      "Bootstrap Progress: 100%|██████████| 1000/1000 [03:27<00:00,  4.82it/s]\n"
     ]
    },
    {
     "name": "stdout",
     "output_type": "stream",
     "text": [
      "\n",
      "Processing NMTLR...\n"
     ]
    },
    {
     "name": "stderr",
     "output_type": "stream",
     "text": [
      "Bootstrap Progress: 100%|██████████| 1000/1000 [03:30<00:00,  4.75it/s]\n"
     ]
    },
    {
     "name": "stdout",
     "output_type": "stream",
     "text": [
      "\n",
      "Processing DeepSurv...\n"
     ]
    },
    {
     "name": "stderr",
     "output_type": "stream",
     "text": [
      "Bootstrap Progress: 100%|██████████| 1000/1000 [03:42<00:00,  4.50it/s]\n"
     ]
    },
    {
     "name": "stdout",
     "output_type": "stream",
     "text": [
      "\n",
      "Processing RSF...\n"
     ]
    },
    {
     "name": "stderr",
     "output_type": "stream",
     "text": [
      "Bootstrap Progress: 100%|██████████| 1000/1000 [05:29<00:00,  3.03it/s]\n"
     ]
    },
    {
     "name": "stdout",
     "output_type": "stream",
     "text": [
      "\n",
      "Evaluating models on Subset2 dataset:\n",
      "======================================================================\n",
      "\n",
      "Processing CPH...\n"
     ]
    },
    {
     "name": "stderr",
     "output_type": "stream",
     "text": [
      "Bootstrap Progress: 100%|██████████| 1000/1000 [46:09<00:00,  2.77s/it]\n"
     ]
    },
    {
     "name": "stdout",
     "output_type": "stream",
     "text": [
      "\n",
      "Processing NMTLR...\n"
     ]
    },
    {
     "name": "stderr",
     "output_type": "stream",
     "text": [
      "Bootstrap Progress: 100%|██████████| 1000/1000 [42:12<00:00,  2.53s/it]\n"
     ]
    },
    {
     "name": "stdout",
     "output_type": "stream",
     "text": [
      "\n",
      "Processing DeepSurv...\n"
     ]
    },
    {
     "name": "stderr",
     "output_type": "stream",
     "text": [
      "Bootstrap Progress: 100%|██████████| 1000/1000 [41:59<00:00,  2.52s/it]\n"
     ]
    },
    {
     "name": "stdout",
     "output_type": "stream",
     "text": [
      "\n",
      "Processing RSF...\n"
     ]
    },
    {
     "name": "stderr",
     "output_type": "stream",
     "text": [
      "Bootstrap Progress: 100%|██████████| 1000/1000 [46:15<00:00,  2.78s/it]\n"
     ]
    },
    {
     "name": "stdout",
     "output_type": "stream",
     "text": [
      "\n",
      "Evaluating models on Subset3 dataset:\n",
      "======================================================================\n",
      "\n",
      "Processing CPH...\n"
     ]
    },
    {
     "name": "stderr",
     "output_type": "stream",
     "text": [
      "Bootstrap Progress: 100%|██████████| 1000/1000 [2:00:16<00:00,  7.22s/it] \n"
     ]
    },
    {
     "name": "stdout",
     "output_type": "stream",
     "text": [
      "\n",
      "Processing NMTLR...\n"
     ]
    },
    {
     "name": "stderr",
     "output_type": "stream",
     "text": [
      "Bootstrap Progress: 100%|██████████| 1000/1000 [2:02:58<00:00,  7.38s/it] \n"
     ]
    },
    {
     "name": "stdout",
     "output_type": "stream",
     "text": [
      "\n",
      "Processing DeepSurv...\n"
     ]
    },
    {
     "name": "stderr",
     "output_type": "stream",
     "text": [
      "Bootstrap Progress: 100%|██████████| 1000/1000 [2:00:32<00:00,  7.23s/it] \n"
     ]
    },
    {
     "name": "stdout",
     "output_type": "stream",
     "text": [
      "\n",
      "Processing RSF...\n"
     ]
    },
    {
     "name": "stderr",
     "output_type": "stream",
     "text": [
      "Bootstrap Progress: 100%|██████████| 1000/1000 [2:12:33<00:00,  7.95s/it] \n"
     ]
    },
    {
     "name": "stdout",
     "output_type": "stream",
     "text": [
      "\n",
      "Complete Performance Summary:\n",
      "======================================================================\n",
      "\n",
      "Test Dataset Results:\n",
      "------------------------------------------------------------\n",
      "CPH:\n",
      "  Mean C-index: 0.7436\n",
      "  95% CI: [0.7243, 0.7606]\n",
      "----------------------------------------\n",
      "NMTLR:\n",
      "  Mean C-index: 0.7761\n",
      "  95% CI: [0.7596, 0.7916]\n",
      "----------------------------------------\n",
      "DeepSurv:\n",
      "  Mean C-index: 0.7803\n",
      "  95% CI: [0.7641, 0.7963]\n",
      "----------------------------------------\n",
      "RSF:\n",
      "  Mean C-index: 0.7656\n",
      "  95% CI: [0.7477, 0.7817]\n",
      "----------------------------------------\n",
      "\n",
      "Subset2 Dataset Results:\n",
      "------------------------------------------------------------\n",
      "CPH:\n",
      "  Mean C-index: 0.6966\n",
      "  95% CI: [0.6864, 0.7058]\n",
      "----------------------------------------\n",
      "NMTLR:\n",
      "  Mean C-index: 0.7229\n",
      "  95% CI: [0.7135, 0.7322]\n",
      "----------------------------------------\n",
      "DeepSurv:\n",
      "  Mean C-index: 0.7257\n",
      "  95% CI: [0.7161, 0.7356]\n",
      "----------------------------------------\n",
      "RSF:\n",
      "  Mean C-index: 0.7197\n",
      "  95% CI: [0.7107, 0.7296]\n",
      "----------------------------------------\n",
      "\n",
      "Subset3 Dataset Results:\n",
      "------------------------------------------------------------\n",
      "CPH:\n",
      "  Mean C-index: 0.7492\n",
      "  95% CI: [0.7418, 0.7558]\n",
      "----------------------------------------\n",
      "NMTLR:\n",
      "  Mean C-index: 0.7843\n",
      "  95% CI: [0.7774, 0.7908]\n",
      "----------------------------------------\n",
      "DeepSurv:\n",
      "  Mean C-index: 0.7877\n",
      "  95% CI: [0.7813, 0.7944]\n",
      "----------------------------------------\n",
      "RSF:\n",
      "  Mean C-index: 0.7764\n",
      "  95% CI: [0.7698, 0.7827]\n",
      "----------------------------------------\n",
      "\n",
      "Tabulated Results:\n",
      "======================================================================\n",
      "    Dataset     Model  Mean C-index  CI Lower  CI Upper\n",
      "0      Test       CPH        0.7436    0.7243    0.7606\n",
      "1      Test     NMTLR        0.7761    0.7596    0.7916\n",
      "2      Test  DeepSurv        0.7803    0.7641    0.7963\n",
      "3      Test       RSF        0.7656    0.7477    0.7817\n",
      "4   Subset2       CPH        0.6966    0.6864    0.7058\n",
      "5   Subset2     NMTLR        0.7229    0.7135    0.7322\n",
      "6   Subset2  DeepSurv        0.7257    0.7161    0.7356\n",
      "7   Subset2       RSF        0.7197    0.7107    0.7296\n",
      "8   Subset3       CPH        0.7492    0.7418    0.7558\n",
      "9   Subset3     NMTLR        0.7843    0.7774    0.7908\n",
      "10  Subset3  DeepSurv        0.7877    0.7813    0.7944\n",
      "11  Subset3       RSF        0.7764    0.7698    0.7827\n"
     ]
    }
   ],
   "source": [
    "def evaluate_model(model, X, T, E, model_name, dataset_name, n_bootstraps=1000):\n",
    "    c_indices, mean_c, ci_low, ci_high = bootstrap_concordance(\n",
    "        X, T, E, model, n_bootstraps=n_bootstraps\n",
    "    )\n",
    "    \n",
    "\n",
    "    pd.Series(c_indices).to_csv(\n",
    "        os.path.join(save_path, f'c_indices_{model_name.lower()}_{dataset_name.lower()}.csv'), \n",
    "        index=False\n",
    "    )\n",
    "    \n",
    "    return {\n",
    "        'name': model_name,\n",
    "        'dataset': dataset_name,\n",
    "        'c_indices': c_indices,\n",
    "        'mean': mean_c,\n",
    "        'ci_low': ci_low,\n",
    "        'ci_high': ci_high\n",
    "    }\n",
    "\n",
    "\n",
    "models = {\n",
    "    'CPH': cph_model,\n",
    "    'NMTLR': nmtlr.model,\n",
    "    'DeepSurv': deepsurv.model,\n",
    "    'RSF': rsf.model\n",
    "}\n",
    "\n",
    "\n",
    "datasets = {\n",
    "    'Test': (X_test_np, T_test_np, E_test_np),\n",
    "    'Subset2': (X2_np, T2_np, E2_np),\n",
    "    'Subset3': (X3_np, T3_np, E3_np)\n",
    "}\n",
    "\n",
    "\n",
    "results = {}\n",
    "for dataset_name, (X, T, E) in datasets.items():\n",
    "    results[dataset_name] = {}\n",
    "    print(f\"\\nEvaluating models on {dataset_name} dataset:\")\n",
    "    print(\"=\" * 70)\n",
    "    \n",
    "    for model_name, model in models.items():\n",
    "        print(f\"\\nProcessing {model_name}...\")\n",
    "        results[dataset_name][model_name] = evaluate_model(\n",
    "            model=model,\n",
    "            X=X,\n",
    "            T=T,\n",
    "            E=E,\n",
    "            model_name=model_name,\n",
    "            dataset_name=dataset_name\n",
    "        )\n",
    "\n",
    "\n",
    "print(\"\\nComplete Performance Summary:\")\n",
    "print(\"=\" * 70)\n",
    "for dataset_name in results:\n",
    "    print(f\"\\n{dataset_name} Dataset Results:\")\n",
    "    print(\"-\" * 60)\n",
    "    for model_name in results[dataset_name]:\n",
    "        result = results[dataset_name][model_name]\n",
    "        print(f\"{model_name}:\")\n",
    "        print(f\"  Mean C-index: {result['mean']:.4f}\")\n",
    "        print(f\"  95% CI: [{result['ci_low']:.4f}, {result['ci_high']:.4f}]\")\n",
    "        print(\"-\" * 40)\n",
    "\n",
    "\n",
    "summary_data = []\n",
    "for dataset_name in results:\n",
    "    for model_name in results[dataset_name]:\n",
    "        result = results[dataset_name][model_name]\n",
    "        summary_data.append({\n",
    "            'Dataset': dataset_name,\n",
    "            'Model': model_name,\n",
    "            'Mean C-index': result['mean'],\n",
    "            'CI Lower': result['ci_low'],\n",
    "            'CI Upper': result['ci_high']\n",
    "        })\n",
    "\n",
    "summary_df = pd.DataFrame(summary_data)\n",
    "\n",
    "\n",
    "summary_df.to_csv(os.path.join(save_path, 'model_performance_summary.csv'), index=False)\n",
    "\n",
    "\n",
    "print(\"\\nTabulated Results:\")\n",
    "print(\"=\" * 70)\n",
    "print(summary_df.to_string(float_format=lambda x: '{:.4f}'.format(x)))"
   ]
  }
 ],
 "metadata": {
  "kernelspec": {
   "display_name": "pysurvival",
   "language": "python",
   "name": "python3"
  },
  "language_info": {
   "codemirror_mode": {
    "name": "ipython",
    "version": 3
   },
   "file_extension": ".py",
   "mimetype": "text/x-python",
   "name": "python",
   "nbconvert_exporter": "python",
   "pygments_lexer": "ipython3",
   "version": "3.7.16"
  }
 },
 "nbformat": 4,
 "nbformat_minor": 4
}
